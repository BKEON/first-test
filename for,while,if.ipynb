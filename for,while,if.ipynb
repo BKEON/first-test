{
 "cells": [
  {
   "cell_type": "markdown",
   "metadata": {},
   "source": [
    "print(\"대기번호 : 1\")\n",
    "print(\"대기번호 : 2\")\n",
    "print(\"대기번호 : 3\")\n",
    "print(\"대기번호 : 4\")"
   ]
  },
  {
   "cell_type": "code",
   "execution_count": 4,
   "metadata": {},
   "outputs": [
    {
     "name": "stdout",
     "output_type": "stream",
     "text": [
      "대기번호 : 1\n",
      "대기번호 : 2\n",
      "대기번호 : 3\n",
      "대기번호 : 4\n",
      "대기번호 : 5\n"
     ]
    }
   ],
   "source": [
    "for waiting_no in range(1,6):    #1,2,3,4,5\n",
    "    print(\"대기번호 : {0}\".format(waiting_no))"
   ]
  },
  {
   "cell_type": "code",
   "execution_count": 8,
   "metadata": {},
   "outputs": [
    {
     "name": "stdout",
     "output_type": "stream",
     "text": [
      "아이언맨님 커피가 준비되었습니다.\n",
      "토르님 커피가 준비되었습니다.\n",
      "그루트님 커피가 준비되었습니다.\n"
     ]
    }
   ],
   "source": [
    "starbucks = [\"아이언맨\",\"토르\",\"그루트\"]\n",
    "for customer in starbucks:\n",
    "    print(\"{0}님 커피가 준비되었습니다.\".format(customer))"
   ]
  },
  {
   "cell_type": "code",
   "execution_count": 1,
   "metadata": {},
   "outputs": [
    {
     "name": "stdout",
     "output_type": "stream",
     "text": [
      "토르, 커피가 준비되었습니다. 5번 남았어요.\n",
      "토르, 커피가 준비되었습니다. 4번 남았어요.\n",
      "토르, 커피가 준비되었습니다. 3번 남았어요.\n",
      "토르, 커피가 준비되었습니다. 2번 남았어요.\n",
      "토르, 커피가 준비되었습니다. 1번 남았어요.\n",
      "커피는 폐기처분되었습니다.\n"
     ]
    }
   ],
   "source": [
    "#while\n",
    "customer = \"토르\"\n",
    "index = 5\n",
    "while index >=1:\n",
    "    print(\"{0}, 커피가 준비되었습니다. {1}번 남았어요.\".format(customer,index))\n",
    "    index-=1\n",
    "    if index == 0:\n",
    "        print(\"커피는 폐기처분되었습니다.\")"
   ]
  },
  {
   "cell_type": "markdown",
   "metadata": {},
   "source": [
    "customer = \"아이언맨\"\n",
    "index = 1\n",
    "while True:\n",
    "    print(\"{0}, 커피가 준비되었습니다. 호출{1}회.\".format(customer,index))\n",
    "    index+=1"
   ]
  },
  {
   "cell_type": "code",
   "execution_count": 1,
   "metadata": {},
   "outputs": [
    {
     "name": "stdout",
     "output_type": "stream",
     "text": [
      "토르,커피가 준비되었습니다.\n",
      "이름이 어떻게 되세요?아이언맨\n",
      "토르,커피가 준비되었습니다.\n",
      "이름이 어떻게 되세요?토르\n"
     ]
    }
   ],
   "source": [
    "customer =\"토르\"\n",
    "person=\"Unknown\"\n",
    "\n",
    "while person != customer :\n",
    "    print(\"{0},커피가 준비되었습니다.\".format(customer))\n",
    "    person = input(\"이름이 어떻게 되세요?\")"
   ]
  },
  {
   "cell_type": "code",
   "execution_count": 5,
   "metadata": {},
   "outputs": [
    {
     "name": "stdout",
     "output_type": "stream",
     "text": [
      "1,책을 읽어봐\n",
      "3,책을 읽어봐\n",
      "4,책을 읽어봐\n",
      "6,책을 읽어봐\n",
      "오늘 수업 여기까지,7는 교무실로 따라와\n"
     ]
    }
   ],
   "source": [
    "absent=[2,5] # 결석\n",
    "no_book=[7]  #책을 깜박함\n",
    "for student in range(1,11):  #1~10\n",
    "    if student in absent :\n",
    "        continue\n",
    "    elif student in no_book:\n",
    "        print(\"오늘 수업 여기까지,{0}는 교무실로 따라와\".format(student))\n",
    "        break\n",
    "    print(\"{0},책을 읽어봐\".format(student))"
   ]
  },
  {
   "cell_type": "code",
   "execution_count": 8,
   "metadata": {},
   "outputs": [
    {
     "name": "stdout",
     "output_type": "stream",
     "text": [
      "[1, 2, 3, 4, 5]\n",
      "[101, 102, 103, 104, 105]\n"
     ]
    }
   ],
   "source": [
    "# 출석번호가 1 2 3 4, 앞에 100을 붙이기로 함\n",
    "students=[1,2,3,4,5]\n",
    "print(students)\n",
    "students = [i+100 for i in students]\n",
    "print(students)"
   ]
  },
  {
   "cell_type": "code",
   "execution_count": 9,
   "metadata": {},
   "outputs": [
    {
     "name": "stdout",
     "output_type": "stream",
     "text": [
      "[8, 4, 10]\n"
     ]
    }
   ],
   "source": [
    "#학생 이름을 길이로 변환\n",
    "students = [\"Iron man\",\"Thor\",\"I am groot\"]\n",
    "students=[len(i) for i in students]\n",
    "print(students)"
   ]
  },
  {
   "cell_type": "code",
   "execution_count": 11,
   "metadata": {},
   "outputs": [
    {
     "name": "stdout",
     "output_type": "stream",
     "text": [
      "['IRON MAN', 'THOR', 'I AM GROOT']\n"
     ]
    }
   ],
   "source": [
    "#학생이름을 대문자로 변환\n",
    "students = [\"Iron man\",\"Thor\",\"I am groot\"]\n",
    "students = [i.upper() for i in students]\n",
    "print(students)"
   ]
  },
  {
   "cell_type": "code",
   "execution_count": null,
   "metadata": {},
   "outputs": [],
   "source": []
  }
 ],
 "metadata": {
  "kernelspec": {
   "display_name": "Python 3",
   "language": "python",
   "name": "python3"
  },
  "language_info": {
   "codemirror_mode": {
    "name": "ipython",
    "version": 3
   },
   "file_extension": ".py",
   "mimetype": "text/x-python",
   "name": "python",
   "nbconvert_exporter": "python",
   "pygments_lexer": "ipython3",
   "version": "3.6.4"
  }
 },
 "nbformat": 4,
 "nbformat_minor": 2
}
