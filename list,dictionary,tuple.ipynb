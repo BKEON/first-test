{
 "cells": [
  {
   "cell_type": "code",
   "execution_count": 1,
   "metadata": {},
   "outputs": [],
   "source": [
    "#리스트"
   ]
  },
  {
   "cell_type": "code",
   "execution_count": 2,
   "metadata": {},
   "outputs": [],
   "source": [
    "#지하철 칸별로 10,20,30 명\n",
    "subway1 = 10\n",
    "subway2 = 20\n",
    "subway3 = 30"
   ]
  },
  {
   "cell_type": "code",
   "execution_count": 3,
   "metadata": {},
   "outputs": [
    {
     "data": {
      "text/plain": [
       "10"
      ]
     },
     "execution_count": 3,
     "metadata": {},
     "output_type": "execute_result"
    }
   ],
   "source": [
    "subway1"
   ]
  },
  {
   "cell_type": "code",
   "execution_count": 4,
   "metadata": {},
   "outputs": [
    {
     "name": "stdout",
     "output_type": "stream",
     "text": [
      "[10, 20, 30]\n"
     ]
    }
   ],
   "source": [
    "subway = [10,20,30]\n",
    "print(subway)"
   ]
  },
  {
   "cell_type": "code",
   "execution_count": 5,
   "metadata": {},
   "outputs": [
    {
     "name": "stdout",
     "output_type": "stream",
     "text": [
      "['유재석', '조세호', '박명수']\n"
     ]
    }
   ],
   "source": [
    "subway = [\"유재석\",\"조세호\",\"박명수\"]\n",
    "print(subway)"
   ]
  },
  {
   "cell_type": "code",
   "execution_count": 6,
   "metadata": {},
   "outputs": [
    {
     "name": "stdout",
     "output_type": "stream",
     "text": [
      "1\n"
     ]
    }
   ],
   "source": [
    "print(subway.index(\"조세호\"))"
   ]
  },
  {
   "cell_type": "code",
   "execution_count": 7,
   "metadata": {},
   "outputs": [
    {
     "name": "stdout",
     "output_type": "stream",
     "text": [
      "['유재석', '조세호', '박명수', '하하']\n"
     ]
    }
   ],
   "source": [
    " #하하 탑승\n",
    "subway.append(\"하하\")\n",
    "print(subway)"
   ]
  },
  {
   "cell_type": "code",
   "execution_count": 8,
   "metadata": {},
   "outputs": [
    {
     "name": "stdout",
     "output_type": "stream",
     "text": [
      "['유재석', '정형돈', '조세호', '박명수', '하하']\n"
     ]
    }
   ],
   "source": [
    "#정형돈 유재석,조세호 사이 탑승\n",
    "subway.insert(1,\"정형돈\")\n",
    "print(subway)"
   ]
  },
  {
   "cell_type": "code",
   "execution_count": 9,
   "metadata": {},
   "outputs": [
    {
     "name": "stdout",
     "output_type": "stream",
     "text": [
      "하하\n",
      "['유재석', '정형돈', '조세호', '박명수']\n"
     ]
    }
   ],
   "source": [
    "#사람을한명씩 뒤에서 꺼냄\n",
    "print(subway.pop())\n",
    "print(subway)"
   ]
  },
  {
   "cell_type": "code",
   "execution_count": 10,
   "metadata": {},
   "outputs": [
    {
     "name": "stdout",
     "output_type": "stream",
     "text": [
      "박명수\n",
      "['유재석', '정형돈', '조세호']\n",
      "조세호\n",
      "['유재석', '정형돈']\n"
     ]
    }
   ],
   "source": [
    "print(subway.pop())\n",
    "print(subway)\n",
    "print(subway.pop())\n",
    "print(subway)"
   ]
  },
  {
   "cell_type": "code",
   "execution_count": 11,
   "metadata": {},
   "outputs": [
    {
     "name": "stdout",
     "output_type": "stream",
     "text": [
      "['유재석', '정형돈', '유재석']\n",
      "2\n"
     ]
    }
   ],
   "source": [
    "#같은사람 이름이 몇명있는지 확인\n",
    "subway.append(\"유재석\")\n",
    "print(subway)\n",
    "print(subway.count(\"유재석\"))"
   ]
  },
  {
   "cell_type": "code",
   "execution_count": 13,
   "metadata": {},
   "outputs": [
    {
     "name": "stdout",
     "output_type": "stream",
     "text": [
      "[1, 2, 3, 4, 5]\n"
     ]
    }
   ],
   "source": [
    "#정렬\n",
    "num_list=[5,2,4,3,1]\n",
    "num_list.sort()\n",
    "print(num_list)"
   ]
  },
  {
   "cell_type": "code",
   "execution_count": 14,
   "metadata": {},
   "outputs": [
    {
     "name": "stdout",
     "output_type": "stream",
     "text": [
      "[5, 4, 3, 2, 1]\n"
     ]
    }
   ],
   "source": [
    "#순서 뒤집기 가능\n",
    "num_list.reverse()\n",
    "print(num_list)"
   ]
  },
  {
   "cell_type": "code",
   "execution_count": 16,
   "metadata": {},
   "outputs": [
    {
     "name": "stdout",
     "output_type": "stream",
     "text": [
      "[]\n"
     ]
    }
   ],
   "source": [
    "#모두 지우기\n",
    "num_list.clear()\n",
    "print(num_list)"
   ]
  },
  {
   "cell_type": "code",
   "execution_count": 17,
   "metadata": {},
   "outputs": [
    {
     "name": "stdout",
     "output_type": "stream",
     "text": [
      "['조세호', 20, True]\n"
     ]
    }
   ],
   "source": [
    "#다양한 자료형 함께사용\n",
    "mix_list = [\"조세호\",20,True]\n",
    "print(mix_list)"
   ]
  },
  {
   "cell_type": "code",
   "execution_count": 19,
   "metadata": {},
   "outputs": [
    {
     "name": "stdout",
     "output_type": "stream",
     "text": [
      "[5, 2, 4, 3, 1, '조세호', 20, True]\n"
     ]
    }
   ],
   "source": [
    "#리스트 확장\n",
    "num_list=[5,2,4,3,1]\n",
    "num_list.extend(mix_list)\n",
    "print(num_list)"
   ]
  },
  {
   "cell_type": "code",
   "execution_count": 20,
   "metadata": {},
   "outputs": [],
   "source": [
    "#사전(key와 value형태)"
   ]
  },
  {
   "cell_type": "code",
   "execution_count": 26,
   "metadata": {},
   "outputs": [
    {
     "name": "stdout",
     "output_type": "stream",
     "text": [
      "유재석\n",
      "김태호\n",
      "{3: '유재석', 100: '김태호'}\n",
      "유재석\n"
     ]
    }
   ],
   "source": [
    "cabinet = {3:\"유재석\",100:\"김태호\"}\n",
    "print(cabinet[3])\n",
    "print(cabinet[100])\n",
    "print(cabinet)\n",
    "print(cabinet.get(3))"
   ]
  },
  {
   "cell_type": "code",
   "execution_count": 28,
   "metadata": {},
   "outputs": [
    {
     "name": "stdout",
     "output_type": "stream",
     "text": [
      "None\n",
      "hi\n"
     ]
    }
   ],
   "source": [
    "#print(cabinet[5])\n",
    "\n",
    "print(cabinet.get(5))\n",
    "print(\"hi\")\n",
    "#"
   ]
  },
  {
   "cell_type": "code",
   "execution_count": 29,
   "metadata": {},
   "outputs": [
    {
     "name": "stdout",
     "output_type": "stream",
     "text": [
      "True\n",
      "False\n"
     ]
    }
   ],
   "source": [
    "print(3 in cabinet) #True\n",
    "print(5 in cabinet) #False\n"
   ]
  },
  {
   "cell_type": "code",
   "execution_count": 31,
   "metadata": {},
   "outputs": [
    {
     "name": "stdout",
     "output_type": "stream",
     "text": [
      "{3: '유재석', 100: '김태호', 50: '조세호'}\n"
     ]
    }
   ],
   "source": [
    "#새손님\n",
    "cabinet[50]=\"조세호\"\n",
    "print(cabinet)"
   ]
  },
  {
   "cell_type": "code",
   "execution_count": 33,
   "metadata": {},
   "outputs": [
    {
     "name": "stdout",
     "output_type": "stream",
     "text": [
      "{3: '유재석', 50: '조세호'}\n"
     ]
    }
   ],
   "source": [
    "#간 손님 \n",
    "del cabinet[100]\n",
    "print(cabinet)"
   ]
  },
  {
   "cell_type": "code",
   "execution_count": 34,
   "metadata": {},
   "outputs": [
    {
     "name": "stdout",
     "output_type": "stream",
     "text": [
      "dict_keys([3, 50])\n"
     ]
    }
   ],
   "source": [
    "#key 들만 출력\n",
    "print(cabinet.keys())"
   ]
  },
  {
   "cell_type": "code",
   "execution_count": 35,
   "metadata": {},
   "outputs": [
    {
     "name": "stdout",
     "output_type": "stream",
     "text": [
      "dict_values(['유재석', '조세호'])\n"
     ]
    }
   ],
   "source": [
    "#value 들만 출력\n",
    "print(cabinet.values())"
   ]
  },
  {
   "cell_type": "code",
   "execution_count": 37,
   "metadata": {},
   "outputs": [
    {
     "name": "stdout",
     "output_type": "stream",
     "text": [
      "dict_items([(3, '유재석'), (50, '조세호')])\n"
     ]
    }
   ],
   "source": [
    "#key,value 모두 출력\n",
    "print(cabinet.items())"
   ]
  },
  {
   "cell_type": "code",
   "execution_count": 38,
   "metadata": {},
   "outputs": [
    {
     "name": "stdout",
     "output_type": "stream",
     "text": [
      "{}\n"
     ]
    }
   ],
   "source": [
    "#사전 제거\n",
    "cabinet.clear()\n",
    "print(cabinet)"
   ]
  },
  {
   "cell_type": "code",
   "execution_count": 39,
   "metadata": {},
   "outputs": [
    {
     "name": "stdout",
     "output_type": "stream",
     "text": [
      "돈까스\n",
      "치즈까스\n"
     ]
    }
   ],
   "source": [
    "##튜플\n",
    "menu=(\"돈까스\",\"치즈까스\")\n",
    "print(menu[0])\n",
    "print(menu[1])"
   ]
  },
  {
   "cell_type": "code",
   "execution_count": 40,
   "metadata": {},
   "outputs": [],
   "source": [
    "# menu.add(\"생선까스) add함수 불가\n"
   ]
  },
  {
   "cell_type": "code",
   "execution_count": 44,
   "metadata": {},
   "outputs": [],
   "source": [
    "#name = \"김종국\"\n",
    "#age = 20\n",
    "#hobby = \"코딩\"\n",
    "#print(name,age,hobby)"
   ]
  },
  {
   "cell_type": "code",
   "execution_count": 49,
   "metadata": {},
   "outputs": [],
   "source": [
    "(name,age,hobby)=(\"김종국\",20,\"코딩\")  # 튜플 형태"
   ]
  },
  {
   "cell_type": "code",
   "execution_count": 51,
   "metadata": {},
   "outputs": [
    {
     "data": {
      "text/plain": [
       "('김종국', 20, '코딩')"
      ]
     },
     "execution_count": 51,
     "metadata": {},
     "output_type": "execute_result"
    }
   ],
   "source": [
    "name,age,hobby"
   ]
  },
  {
   "cell_type": "code",
   "execution_count": 52,
   "metadata": {},
   "outputs": [
    {
     "name": "stdout",
     "output_type": "stream",
     "text": [
      "{1, 2, 3}\n"
     ]
    }
   ],
   "source": [
    "#set - 집합\n",
    "#중복이 안되고 순서가 없음\n",
    "my_set={1,2,3,3,3}\n",
    "print(my_set)    "
   ]
  },
  {
   "cell_type": "code",
   "execution_count": 53,
   "metadata": {},
   "outputs": [],
   "source": [
    "java = {\"유재석\",\"김태호\",\"양세형\"}\n",
    "python = set([\"유재석\",\"박명수\"])\n"
   ]
  },
  {
   "cell_type": "code",
   "execution_count": 54,
   "metadata": {},
   "outputs": [
    {
     "name": "stdout",
     "output_type": "stream",
     "text": [
      "{'유재석'}\n",
      "{'유재석'}\n"
     ]
    }
   ],
   "source": [
    "# 교집합 (java와 python을 모두 할수있는개발자 )\n",
    "print(java & python)\n",
    "print(java.intersection(python))"
   ]
  },
  {
   "cell_type": "code",
   "execution_count": 55,
   "metadata": {},
   "outputs": [
    {
     "name": "stdout",
     "output_type": "stream",
     "text": [
      "{'유재석', '김태호', '박명수', '양세형'}\n",
      "{'유재석', '김태호', '박명수', '양세형'}\n"
     ]
    }
   ],
   "source": [
    "#합집합 \n",
    "print(java|python)\n",
    "print(java.union(python))"
   ]
  },
  {
   "cell_type": "code",
   "execution_count": 56,
   "metadata": {},
   "outputs": [
    {
     "name": "stdout",
     "output_type": "stream",
     "text": [
      "{'김태호', '양세형'}\n",
      "{'김태호', '양세형'}\n"
     ]
    }
   ],
   "source": [
    "#차집합(java는 가능 python은 불가능)\n",
    "print(java-python)\n",
    "print(java.difference(python))"
   ]
  },
  {
   "cell_type": "code",
   "execution_count": 66,
   "metadata": {},
   "outputs": [
    {
     "name": "stdout",
     "output_type": "stream",
     "text": [
      "{'김태호', '박명수', '유재석'}\n"
     ]
    }
   ],
   "source": [
    "#python 할줄아는 사람이 늘어남\n",
    "python.add(\"김태호\")\n",
    "java.add(\"김태호\")\n",
    "print(python)"
   ]
  },
  {
   "cell_type": "code",
   "execution_count": 67,
   "metadata": {},
   "outputs": [
    {
     "name": "stdout",
     "output_type": "stream",
     "text": [
      "{'양세형', '유재석'}\n"
     ]
    }
   ],
   "source": [
    "# java를 잊어버림\n",
    "java.remove(\"김태호\")\n",
    "print(java)\n"
   ]
  },
  {
   "cell_type": "code",
   "execution_count": 72,
   "metadata": {},
   "outputs": [
    {
     "name": "stdout",
     "output_type": "stream",
     "text": [
      "{'우유', '커피', '주스'} <class 'set'>\n",
      "['우유', '커피', '주스'] <class 'list'>\n",
      "('우유', '커피', '주스') <class 'tuple'>\n",
      "{'우유', '커피', '주스'} <class 'set'>\n"
     ]
    }
   ],
   "source": [
    "#자료구조의 변경\n",
    "menu = {\"커피\",\"우유\",\"주스\"}\n",
    "print(menu, type(menu))\n",
    "menu= list(menu)\n",
    "print(menu, type(menu))\n",
    "menu=tuple(menu)\n",
    "print(menu, type(menu))\n",
    "menu=set(menu)\n",
    "print(menu, type(menu))\n"
   ]
  },
  {
   "cell_type": "code",
   "execution_count": null,
   "metadata": {},
   "outputs": [],
   "source": [
    "\n"
   ]
  }
 ],
 "metadata": {
  "kernelspec": {
   "display_name": "Python 3",
   "language": "python",
   "name": "python3"
  },
  "language_info": {
   "codemirror_mode": {
    "name": "ipython",
    "version": 3
   },
   "file_extension": ".py",
   "mimetype": "text/x-python",
   "name": "python",
   "nbconvert_exporter": "python",
   "pygments_lexer": "ipython3",
   "version": "3.6.4"
  }
 },
 "nbformat": 4,
 "nbformat_minor": 2
}
